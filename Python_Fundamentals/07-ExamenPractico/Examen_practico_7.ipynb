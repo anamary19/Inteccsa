{
 "cells": [
  {
   "cell_type": "markdown",
   "id": "7018f1c6-be43-46a5-a3be-b87141fbf234",
   "metadata": {},
   "source": [
    "## Examen Práctico 7"
   ]
  },
  {
   "cell_type": "markdown",
   "id": "b551a357-c82b-4a9f-8496-bd69dc70659c",
   "metadata": {},
   "source": [
    "#### Pregunta 1 (0.5 pts)"
   ]
  },
  {
   "cell_type": "markdown",
   "id": "3ddd5d4a-ff38-4a2c-92f2-73551852e22f",
   "metadata": {},
   "source": [
    "Realizar un programa en Python que permita contar la cantidad de palabras de una frase ingresada por el usuario.\n",
    "\n",
    "Nota: Solo esta permitido usar los métodos básicos como len,upper y lower."
   ]
  },
  {
   "cell_type": "code",
   "execution_count": 1,
   "id": "2c5f2bab-b6ab-4a61-860b-f9b8e1cb00e8",
   "metadata": {},
   "outputs": [
    {
     "name": "stdout",
     "output_type": "stream",
     "text": [
      "La cantidad de palabras en la frase es: 4\n"
     ]
    }
   ],
   "source": [
    "def contar_palabras_sin_split(frase):\n",
    "    inicio = 0\n",
    "    while inicio < len(frase) and frase[inicio] == ' ':\n",
    "        inicio += 1\n",
    "\n",
    "    fin = len(frase) - 1\n",
    "    while fin >= 0 and frase[fin] == ' ':\n",
    "        fin -= 1\n",
    "\n",
    "    if inicio > fin:\n",
    "        return 0\n",
    "\n",
    "    frase_limpia = frase[inicio : fin + 1]\n",
    "\n",
    "    contador_palabras = 0\n",
    "    en_palabra = False\n",
    "\n",
    "    for caracter in frase_limpia:\n",
    "        if caracter != ' ':\n",
    "            if not en_palabra:\n",
    "                contador_palabras += 1\n",
    "                en_palabra = True\n",
    "        else:\n",
    "            en_palabra = False\n",
    "\n",
    "    return contador_palabras\n",
    "\n",
    "frase_ingresada = input(\"Ingresa una frase: \")\n",
    "cantidad = contar_palabras_sin_split(frase_ingresada)\n",
    "print(f\"La cantidad de palabras en la frase es: {cantidad}\")"
   ]
  },
  {
   "cell_type": "markdown",
   "id": "ed2f6382-5182-4554-ab3b-d987bf8e59d6",
   "metadata": {},
   "source": [
    "#### Pregunta 2 (0.5 pts)"
   ]
  },
  {
   "cell_type": "markdown",
   "id": "55f77a43-f337-4633-a263-7039ccb6dd7c",
   "metadata": {},
   "source": [
    "Pide una cadena y un carácter por teclado (valida que sea un carácter) y muestra cuantas veces aparece el carácter en la cadena.\n",
    "\n",
    "Nota: Solo esta permitido usar los métodos básicos como len,upper y lower."
   ]
  },
  {
   "cell_type": "code",
   "execution_count": 2,
   "id": "3e118797-b04b-4cb6-b83e-96007ffa24a3",
   "metadata": {},
   "outputs": [
    {
     "name": "stdout",
     "output_type": "stream",
     "text": [
      "El carácter 'a' aparece 3 veces en la cadena.\n"
     ]
    }
   ],
   "source": [
    "def contar_caracter_en_cadena():\n",
    "    cadena = input(\"Ingresa una cadena de texto: \")\n",
    "\n",
    "    if len(cadena) == 0:\n",
    "        print(\"La cadena no puede estar vacía.\")\n",
    "        return\n",
    "\n",
    "    while True:\n",
    "        caracter_buscado = input(\"Ingresa el carácter a buscar (debe ser un solo carácter): \")\n",
    "        if len(caracter_buscado) == 1:\n",
    "            break\n",
    "        else:\n",
    "            print(\"Entrada inválida. Por favor, ingresa solo un carácter.\")\n",
    "\n",
    "    cadena_lower = cadena.lower()\n",
    "    caracter_buscado_lower = caracter_buscado.lower()\n",
    "\n",
    "    contador = 0\n",
    "    for i in range(len(cadena_lower)):\n",
    "        if cadena_lower[i] == caracter_buscado_lower:\n",
    "            contador += 1\n",
    "\n",
    "    print(f\"El carácter '{caracter_buscado}' aparece {contador} veces en la cadena.\")\n",
    "\n",
    "contar_caracter_en_cadena()"
   ]
  },
  {
   "cell_type": "markdown",
   "id": "8bc94013-394d-4aac-a8dd-b9f3636ed39a",
   "metadata": {},
   "source": [
    "#### Pregunta 3 (0.5 pts)"
   ]
  },
  {
   "cell_type": "markdown",
   "id": "1c9c0a37-57fd-4087-b9ad-418e7fb13cab",
   "metadata": {},
   "source": [
    "Si tenemos una cadena con un nombre y apellidos, realizar un programa que muestre las iniciales en mayúscula.\n",
    "\n",
    "Nota: Solo esta permitido usar los métodos básicos como len,upper y lower.\n",
    "\n",
    "Ejemplo:\n",
    "\n",
    "jose perez -> Jose Perez"
   ]
  },
  {
   "cell_type": "code",
   "execution_count": 3,
   "id": "2b08e0e0-8806-4c52-8fe6-3b076f096204",
   "metadata": {},
   "outputs": [
    {
     "name": "stdout",
     "output_type": "stream",
     "text": [
      "JS\n"
     ]
    }
   ],
   "source": [
    "def mostrar_iniciales_mayuscula():\n",
    "    nombre_completo = input(\"Ingresa tu nombre y apellidos: \")\n",
    "    iniciales_mayusculas = \"\"\n",
    "    \n",
    "    # Manejar el primer carácter (primera inicial)\n",
    "    if len(nombre_completo) > 0 and nombre_completo[0] != ' ':\n",
    "        iniciales_mayusculas += nombre_completo[0].upper()\n",
    "\n",
    "    # Recorrer la cadena para encontrar los inicios de las palabras siguientes\n",
    "    for i in range(1, len(nombre_completo)):\n",
    "        if nombre_completo[i-1] == ' ' and nombre_completo[i] != ' ':\n",
    "            iniciales_mayusculas += nombre_completo[i].upper()\n",
    "            \n",
    "    # Mostrar el resultado\n",
    "    print(iniciales_mayusculas)\n",
    "\n",
    "mostrar_iniciales_mayuscula()"
   ]
  },
  {
   "cell_type": "markdown",
   "id": "9878febd-82e3-4bb3-8d89-bc70d614ecf9",
   "metadata": {},
   "source": [
    "#### Pregunta 4 (0.5 pts)"
   ]
  },
  {
   "cell_type": "markdown",
   "id": "ba9d61a3-9eb9-4c88-9cf7-cf0063765713",
   "metadata": {},
   "source": [
    "Realizar un programa que compruebe si una palabra contiene una subcadena. Los dos datos se introducen por teclado.\n",
    "\n",
    "Nota: Solo esta permitido usar los métodos básicos como len,upper y lower."
   ]
  },
  {
   "cell_type": "code",
   "execution_count": 5,
   "id": "61b999f1-d8a8-4160-a67c-a797e812d71e",
   "metadata": {},
   "outputs": [
    {
     "name": "stdout",
     "output_type": "stream",
     "text": [
      "'un' se encuentra en 'hola es lunes?'.\n"
     ]
    }
   ],
   "source": [
    "def comprobar_subcadena():\n",
    "    palabra = input(\"Ingresa la palabra principal: \")\n",
    "    subcadena = input(\"Ingresa la subcadena a buscar: \")\n",
    "\n",
    "    palabra_lower = palabra.lower()\n",
    "    subcadena_lower = subcadena.lower()\n",
    "\n",
    "    encontrado = False\n",
    "\n",
    "    if len(subcadena_lower) > len(palabra_lower):\n",
    "        print(f\"'{subcadena}' no se encuentra en '{palabra}'.\")\n",
    "        return\n",
    "\n",
    "    for i in range(len(palabra_lower) - len(subcadena_lower) + 1):\n",
    "        porcion = \"\"\n",
    "        for j in range(len(subcadena_lower)):\n",
    "            porcion += palabra_lower[i + j]\n",
    "\n",
    "        if porcion == subcadena_lower:\n",
    "            encontrado = True\n",
    "            break\n",
    "\n",
    "    if encontrado:\n",
    "        print(f\"'{subcadena}' se encuentra en '{palabra}'.\")\n",
    "    else:\n",
    "        print(f\"'{subcadena}' no se encuentra en '{palabra}'.\")\n",
    "\n",
    "comprobar_subcadena()"
   ]
  },
  {
   "cell_type": "markdown",
   "id": "2426dd43-b0cb-4fa7-8fe2-e488453d4414",
   "metadata": {},
   "source": [
    "#### Pregunta 5 (1pt)"
   ]
  },
  {
   "cell_type": "markdown",
   "id": "006efd26-08e1-4e20-8b4c-cbb9d8c3791b",
   "metadata": {},
   "source": [
    "Escribir un programa en python que permita introducir una cadena de caracteres e indicar si es un palíndromo. Una palabra palíndroma es aquella que se lee igual adelante que atrás."
   ]
  },
  {
   "cell_type": "code",
   "execution_count": 4,
   "id": "d6bbea19-3ef7-42aa-b03f-80523b2e002f",
   "metadata": {},
   "outputs": [
    {
     "name": "stdout",
     "output_type": "stream",
     "text": [
      "'holas' no es un palíndromo.\n"
     ]
    }
   ],
   "source": [
    "def es_palindromo():\n",
    "    cadena = input(\"Ingresa una cadena de caracteres: \")\n",
    "    \n",
    "    cadena_limpia = \"\"\n",
    "    for caracter in cadena:\n",
    "        if caracter != ' ':\n",
    "            cadena_limpia += caracter.lower()\n",
    "\n",
    "    if cadena_limpia == cadena_limpia[::-1]:\n",
    "        print(f\"'{cadena}' es un palíndromo.\")\n",
    "    else:\n",
    "        print(f\"'{cadena}' no es un palíndromo.\")\n",
    "\n",
    "\n",
    "es_palindromo()"
   ]
  },
  {
   "cell_type": "markdown",
   "id": "7f3cdf51-1779-44bb-ac4b-7aab95d3dd78",
   "metadata": {},
   "source": [
    "#### Pregunta 6 (1pt)"
   ]
  },
  {
   "cell_type": "markdown",
   "id": "ac833ccf-668a-4c2d-822f-3fc27d0703a0",
   "metadata": {},
   "source": [
    "Realizar un programa que solicite una frase por teclado y convierta la primera mitad de la cadena en MAYUSCULAS.\n",
    "\n",
    "Pythons --> PYThons ## En el acaso que la longitud sea inpar.."
   ]
  },
  {
   "cell_type": "code",
   "execution_count": 7,
   "id": "33ed2bd0-1f1f-4eae-a292-ae224891d3ec",
   "metadata": {},
   "outputs": [
    {
     "name": "stdout",
     "output_type": "stream",
     "text": [
      "HOla\n"
     ]
    }
   ],
   "source": [
    "def convertir_primera_mitad_mayusculas():\n",
    "    frase = input(\"Ingresa una frase: \")\n",
    "    longitud = len(frase)\n",
    "    \n",
    "    mitad = longitud // 2\n",
    "    \n",
    "    primera_mitad = \"\"\n",
    "    segunda_mitad = \"\"\n",
    "    \n",
    "    for i in range(longitud):\n",
    "        if i < mitad:\n",
    "            primera_mitad += frase[i].upper()\n",
    "        else:\n",
    "            segunda_mitad += frase[i]\n",
    "            \n",
    "    resultado = primera_mitad + segunda_mitad\n",
    "    print(resultado)\n",
    "\n",
    "convertir_primera_mitad_mayusculas()"
   ]
  },
  {
   "cell_type": "markdown",
   "id": "b61a74b7-d259-4384-9318-ef0b5eac415f",
   "metadata": {},
   "source": [
    "#### Pregunta 7 (1pt)"
   ]
  },
  {
   "cell_type": "markdown",
   "id": "07c0d27e-b056-4103-bf04-d743c71aff6e",
   "metadata": {},
   "source": [
    "Realizar una función  que devuelva la cantidad de números hay en una cadena.\n",
    "\n",
    "\"Nota 1: 8.5\" >> 3 números\n",
    "\n",
    "Nota: Solo esta permitido usar los métodos básicos como len,upper y lower."
   ]
  },
  {
   "cell_type": "code",
   "execution_count": 8,
   "id": "90bffd3e",
   "metadata": {},
   "outputs": [
    {
     "name": "stdout",
     "output_type": "stream",
     "text": [
      "2 números\n"
     ]
    }
   ],
   "source": [
    "def procesar_secuencia():\n",
    "    entrada_texto = input(\"Proporcione una cadena de texto: \")\n",
    "    digito_cuenta = 0\n",
    "\n",
    "    for simbolo in entrada_texto:\n",
    "        if '0' <= simbolo <= '9':\n",
    "            digito_cuenta += 1\n",
    "            \n",
    "    print(f\"{digito_cuenta} números\")\n",
    "\n",
    "procesar_secuencia()"
   ]
  },
  {
   "cell_type": "markdown",
   "id": "d71dacbd-e6c6-41a7-bd44-a90424282999",
   "metadata": {},
   "source": [
    "#### Pregunta 8 (1pt)"
   ]
  },
  {
   "cell_type": "markdown",
   "id": "a9171913-e6c4-4d17-93c9-6678c04b8a6c",
   "metadata": {},
   "source": [
    "Escribir una función reciba dos parametros (frase,longitud), donde frase es una frase cualquiera y longitud es un numero, la función debe devolver la primer palabra coincidente con la longitud enviada.\n",
    "\n",
    "funcion(\"hola, es tu casa\",2) >>> \"es\""
   ]
  },
  {
   "cell_type": "code",
   "execution_count": 12,
   "id": "22d29060-bc10-4de4-9255-fbef3f5b53a4",
   "metadata": {},
   "outputs": [
    {
     "name": "stdout",
     "output_type": "stream",
     "text": [
      "perro\n"
     ]
    }
   ],
   "source": [
    "def procesar_texto(entrada_cadena, largo_deseado):\n",
    "    cadena_temporal = \"\"\n",
    "    \n",
    "    for indice_caracter in range(len(entrada_cadena)):\n",
    "        simbolo_actual = entrada_cadena[indice_caracter]\n",
    "        \n",
    "        if simbolo_actual != ' ':\n",
    "            cadena_temporal += simbolo_actual\n",
    "        else:\n",
    "            if len(cadena_temporal) == largo_deseado:\n",
    "                return cadena_temporal\n",
    "            cadena_temporal = \"\"\n",
    "            \n",
    "    if len(cadena_temporal) == largo_deseado:\n",
    "        return cadena_temporal\n",
    "        \n",
    "    return None \n",
    "\n",
    "\n",
    "print(procesar_texto(\"El perro ladra fuerte\", 5))"
   ]
  },
  {
   "cell_type": "markdown",
   "id": "ba16910e-644e-4b23-8d78-1092a0b2a486",
   "metadata": {},
   "source": [
    "#### Pregunta 9 (1pt)"
   ]
  },
  {
   "cell_type": "markdown",
   "id": "0116a822-349e-4a8b-9ac3-caee98df95eb",
   "metadata": {},
   "source": [
    "Escribir una función que reciba dos parametros (frase,caracter), donde frase es una frase cualquiera y caracter el caracter que debe eliminarse de la frase, la función debe delvolver esta nueva frase con los caracteres eliminados.\n",
    "\n",
    "\n",
    "funcion(\"Hola como estas\",\"a\") >> \"Hol como ests\""
   ]
  },
  {
   "cell_type": "code",
   "execution_count": 15,
   "id": "fa9aac2a-c59c-4a5c-9620-b4070a3cbb1c",
   "metadata": {},
   "outputs": [
    {
     "name": "stdout",
     "output_type": "stream",
     "text": [
      "Hola qu dia s hoy\n"
     ]
    }
   ],
   "source": [
    "def transformar_cadena(fuente_texto, marca_borrar):\n",
    "    salida_modificada = \"\"\n",
    "    for simbolo_origen in fuente_texto:\n",
    "        if simbolo_origen != marca_borrar:\n",
    "            salida_modificada += simbolo_origen\n",
    "    return salida_modificada\n",
    "\n",
    "print(transformar_cadena(\"Hola que dia es hoy\", \"e\"))"
   ]
  },
  {
   "cell_type": "markdown",
   "id": "4e8efc4e-827e-41eb-9197-7ce64697e5b4",
   "metadata": {},
   "source": [
    "#### Pregunta 10 (1pt)"
   ]
  },
  {
   "cell_type": "markdown",
   "id": "b146ba9f-ce8a-498c-8a79-05ef6f3a03db",
   "metadata": {},
   "source": [
    "Realizar una función reciba una cadena e imprima la cadena original más su inverso.\n",
    "\n",
    "\n",
    "\"Reflejo\" >> ReflejoojelfeR"
   ]
  },
  {
   "cell_type": "code",
   "execution_count": 16,
   "id": "2c9ba09b-299b-4810-8f6d-fa2669cf94c4",
   "metadata": {},
   "outputs": [
    {
     "name": "stdout",
     "output_type": "stream",
     "text": [
      "PythonnohtyP\n"
     ]
    }
   ],
   "source": [
    "def invertir_y_mostrar(secuencia_entrada):\n",
    "    secuencia_inversa = \"\"\n",
    "    for i in range(len(secuencia_entrada) - 1, -1, -1):\n",
    "        secuencia_inversa += secuencia_entrada[i]\n",
    "    \n",
    "    print(secuencia_entrada + secuencia_inversa)\n",
    "\n",
    "\n",
    "invertir_y_mostrar(\"Python\")"
   ]
  },
  {
   "cell_type": "markdown",
   "id": "5bf242a1-480c-4bbf-95fa-d45c787a8039",
   "metadata": {},
   "source": [
    "#### Pregunta 11"
   ]
  },
  {
   "cell_type": "markdown",
   "id": "1b0aba9a-11de-4f79-9d1d-b5a24fddacc3",
   "metadata": {},
   "source": [
    "Escribir una función que dada una cadena y un caracter inserte el caracter cada 3 dígitos en la cadena. Ej. 2552552550 y \".\" debería devolver 255.255.255.0"
   ]
  },
  {
   "cell_type": "code",
   "execution_count": 17,
   "id": "7d4d0815-3459-4eca-8152-cfb66275da92",
   "metadata": {},
   "outputs": [
    {
     "name": "stdout",
     "output_type": "stream",
     "text": [
      "123-456-789\n",
      "123\n"
     ]
    }
   ],
   "source": [
    "def formatear_numeros(secuencia_origen, separador_insertar):\n",
    "    resultado_final = \"\"\n",
    "    contador_digitos = 0\n",
    "    \n",
    "    for simbolo_analizar in secuencia_origen:\n",
    "        resultado_final += simbolo_analizar\n",
    "        contador_digitos += 1\n",
    "        \n",
    "        if contador_digitos % 3 == 0 and contador_digitos < len(secuencia_origen):\n",
    "            resultado_final += separador_insertar\n",
    "            \n",
    "    return resultado_final\n",
    "\n",
    "\n",
    "print(formatear_numeros(\"123456789\", \"-\"))\n",
    "print(formatear_numeros(\"123\", \".\"))"
   ]
  },
  {
   "cell_type": "markdown",
   "id": "6ea450ee-f884-450b-bc4c-504a72175ab3",
   "metadata": {},
   "source": [
    "#### Pregunta 12"
   ]
  },
  {
   "cell_type": "markdown",
   "id": "ab00f571-5627-4800-90cd-7c8ef28afe8d",
   "metadata": {},
   "source": [
    "Escribir un programa que muestre un menú con 3 opciones a realizar:\n",
    "\n",
    "- 1. Registrarse: Permite al usario registrarse proporcionado usuario y contraseña.\n",
    "- 2. Identificarse: Permite identificarse prorcionando usuario y contraseña.\n",
    "- 3. Salir\n",
    "\n",
    "Los datos deben ser registrados en un txt linea por linea bajo el siguiente formato usuario;contraseña .\n",
    "\n",
    "datos.txt\n",
    "\n",
    "jose;password1\n",
    "\n",
    "leonel;password112\n",
    "\n",
    "\n",
    "Al identificarse se debe devolver un mensaje según el resultado.\n",
    "\n",
    "Crear las funciones necesarias para que no se repita código, controlar errores y exepciones. Todo el trabajo con las cadenas debe ser realizado desde cero, solo puede hacer uso de métodos básicos como len, upper, lower..\n"
   ]
  },
  {
   "cell_type": "code",
   "execution_count": 18,
   "id": "40b7e5d3-b0ab-4f84-b85d-d67f54bdfc8f",
   "metadata": {},
   "outputs": [
    {
     "name": "stdout",
     "output_type": "stream",
     "text": [
      "\n",
      "--- MENÚ ---\n",
      "1. Registrarse\n",
      "2. Identificarse\n",
      "3. Salir\n",
      "Usuario registrado exitosamente.\n",
      "\n",
      "--- MENÚ ---\n",
      "1. Registrarse\n",
      "2. Identificarse\n",
      "3. Salir\n",
      "Identificación exitosa. ¡Bienvenido!\n",
      "\n",
      "--- MENÚ ---\n",
      "1. Registrarse\n",
      "2. Identificarse\n",
      "3. Salir\n",
      "Saliendo del programa.\n"
     ]
    }
   ],
   "source": [
    "def obtener_campo(linea, indice_inicio, delimitador):\n",
    "    campo = \"\"\n",
    "    for i in range(indice_inicio, len(linea)):\n",
    "        if linea[i] == delimitador:\n",
    "            break\n",
    "        campo += linea[i]\n",
    "    return campo\n",
    "\n",
    "def buscar_usuario(nombre_usuario):\n",
    "    try:\n",
    "        archivo = open(\"datos.txt\", \"r\")\n",
    "        for linea_actual in archivo:\n",
    "            usuario_leido = obtener_campo(linea_actual, 0, ';')\n",
    "            \n",
    "            if len(usuario_leido) == len(nombre_usuario) and usuario_leido.lower() == nombre_usuario.lower():\n",
    "                archivo.close()\n",
    "                return linea_actual\n",
    "        archivo.close()\n",
    "        return None\n",
    "    except FileNotFoundError:\n",
    "        return None\n",
    "\n",
    "def registrar_usuario():\n",
    "    while True:\n",
    "        nuevo_usuario = input(\"Ingrese un nuevo usuario: \").lower()\n",
    "        if len(nuevo_usuario) == 0:\n",
    "            print(\"El usuario no puede estar vacío.\")\n",
    "            continue\n",
    "        \n",
    "        if buscar_usuario(nuevo_usuario):\n",
    "            print(\"El usuario ya existe. Por favor, elija otro.\")\n",
    "        else:\n",
    "            break\n",
    "\n",
    "    while True:\n",
    "        nueva_clave = input(\"Ingrese una contraseña: \")\n",
    "        if len(nueva_clave) == 0:\n",
    "            print(\"La contraseña no puede estar vacía.\")\n",
    "            continue\n",
    "        break\n",
    "\n",
    "    try:\n",
    "        archivo = open(\"datos.txt\", \"a\")\n",
    "        archivo.write(nuevo_usuario + \";\" + nueva_clave + \"\\n\")\n",
    "        archivo.close()\n",
    "        print(\"Usuario registrado exitosamente.\")\n",
    "    except Exception as e:\n",
    "        print(\"Ocurrió un error al registrar el usuario:\", e)\n",
    "\n",
    "def identificar_usuario():\n",
    "    usuario_ingresado = input(\"Ingrese su usuario: \").lower()\n",
    "    clave_ingresada = input(\"Ingrese su contraseña: \")\n",
    "\n",
    "    registro_encontrado = buscar_usuario(usuario_ingresado)\n",
    "\n",
    "    if registro_encontrado:\n",
    "        usuario_registrado = obtener_campo(registro_encontrado, 0, ';')\n",
    "        \n",
    "        indice_inicio_clave = len(usuario_registrado) + 1 # +1 para saltar el ';'\n",
    "        clave_registrada = obtener_campo(registro_encontrado, indice_inicio_clave, '\\n')\n",
    "\n",
    "        if len(clave_ingresada) == len(clave_registrada) and clave_ingresada == clave_registrada:\n",
    "            print(\"Identificación exitosa. ¡Bienvenido!\")\n",
    "        else:\n",
    "            print(\"Contraseña incorrecta.\")\n",
    "    else:\n",
    "        print(\"Usuario no encontrado.\")\n",
    "\n",
    "def mostrar_menu():\n",
    "    while True:\n",
    "        print(\"\\n--- MENÚ ---\")\n",
    "        print(\"1. Registrarse\")\n",
    "        print(\"2. Identificarse\")\n",
    "        print(\"3. Salir\")\n",
    "        opcion = input(\"Seleccione una opción: \")\n",
    "\n",
    "        if opcion == '1':\n",
    "            registrar_usuario()\n",
    "        elif opcion == '2':\n",
    "            identificar_usuario()\n",
    "        elif opcion == '3':\n",
    "            print(\"Saliendo del programa.\")\n",
    "            break\n",
    "        else:\n",
    "            print(\"Opción no válida. Por favor, intente de nuevo.\")\n",
    "\n",
    "mostrar_menu()"
   ]
  }
 ],
 "metadata": {
  "kernelspec": {
   "display_name": "Python 3",
   "language": "python",
   "name": "python3"
  },
  "language_info": {
   "codemirror_mode": {
    "name": "ipython",
    "version": 3
   },
   "file_extension": ".py",
   "mimetype": "text/x-python",
   "name": "python",
   "nbconvert_exporter": "python",
   "pygments_lexer": "ipython3",
   "version": "3.12.4"
  }
 },
 "nbformat": 4,
 "nbformat_minor": 5
}
