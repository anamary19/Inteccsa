{
 "cells": [
  {
   "cell_type": "markdown",
   "id": "55451687-3337-4174-8209-23b9985adaf8",
   "metadata": {},
   "source": [
    "## Examen práctico 8"
   ]
  },
  {
   "cell_type": "markdown",
   "id": "cf4e3dc3-00a0-4025-ad87-17567cfe26fe",
   "metadata": {},
   "source": [
    "#### Pregunta 1"
   ]
  },
  {
   "cell_type": "markdown",
   "id": "89b8be1f-67f5-4391-8116-a2147840fc90",
   "metadata": {},
   "source": [
    "Escribir un programa que almacene el abecedario en una lista, elimine de la lista las letras que ocupen posiciones múltiplos de 5, y muestre por pantalla la lista resultante, prohibido ocupar slicing."
   ]
  },
  {
   "cell_type": "code",
   "execution_count": 1,
   "id": "97fdd2d5-760c-4f6c-9b49-3c3290297269",
   "metadata": {},
   "outputs": [
    {
     "name": "stdout",
     "output_type": "stream",
     "text": [
      "Lista resultante: ['a', 'b', 'c', 'd', 'f', 'g', 'h', 'i', 'k', 'l', 'm', 'n', 'p', 'q', 'r', 's', 'u', 'v', 'w', 'x', 'z']\n"
     ]
    }
   ],
   "source": [
    "# Crear una lista con el abecedario\n",
    "abecedario = []\n",
    "for i in range(26):\n",
    "    abecedario.append(chr(97 + i))  # Letras de 'a' (97) a 'z' (122)\n",
    "\n",
    "# Eliminar letras en posiciones múltiplos de 5 (índices 4, 9, 14, ...)\n",
    "# Es mejor hacerlo de atrás hacia adelante para no alterar los índices\n",
    "for i in range(len(abecedario) - 1, -1, -1):\n",
    "    if (i + 1) % 5 == 0:  # (i + 1) es la posición real (1-based)\n",
    "        del abecedario[i]\n",
    "\n",
    "# Mostrar el resultado\n",
    "print(\"Lista resultante:\", abecedario)\n"
   ]
  },
  {
   "cell_type": "markdown",
   "id": "f38a31fe-5b9f-4a43-b19d-47c91e2c0958",
   "metadata": {},
   "source": [
    "#### Pregunta 2"
   ]
  },
  {
   "cell_type": "markdown",
   "id": "6850829e-1f0b-4518-9056-3854ca962883",
   "metadata": {},
   "source": [
    "Realizar un programa en Python que permita realizar la suma de dos vectores, para ello debes solicitar la dimension de los vectores (la dimensión es la cantidad de elementos) y solicitar los datos de los vectores, luego realizar la suma correspondiente. Al final mostrar el siguiente mensaje:\n",
    "\n",
    "\"La suma de {a} + {b} es {r}\" // Donde a es el primero vector, b el segundo y r el vector resultante.\n",
    "\n",
    "Utilizar tuplas."
   ]
  },
  {
   "cell_type": "code",
   "execution_count": 2,
   "id": "442e8804-70d1-491a-aeee-78bd388c82a3",
   "metadata": {},
   "outputs": [
    {
     "name": "stdout",
     "output_type": "stream",
     "text": [
      "Ingrese los elementos del primer vector:\n",
      "Ingrese los elementos del segundo vector:\n",
      "La suma de (2.0,) + (5.0,) es (7.0,)\n"
     ]
    }
   ],
   "source": [
    "# Solicitar la dimensión de los vectores\n",
    "dimension = int(input(\"Ingrese la dimensión de los vectores: \"))\n",
    "\n",
    "# Solicitar los elementos del primer vector\n",
    "print(\"Ingrese los elementos del primer vector:\")\n",
    "vector1 = []\n",
    "for i in range(dimension):\n",
    "    elemento = float(input(f\"Elemento {i + 1}: \"))\n",
    "    vector1.append(elemento)\n",
    "vector1 = tuple(vector1)\n",
    "\n",
    "# Solicitar los elementos del segundo vector\n",
    "print(\"Ingrese los elementos del segundo vector:\")\n",
    "vector2 = []\n",
    "for i in range(dimension):\n",
    "    elemento = float(input(f\"Elemento {i + 1}: \"))\n",
    "    vector2.append(elemento)\n",
    "vector2 = tuple(vector2)\n",
    "\n",
    "# Sumar los vectores\n",
    "resultado = tuple(vector1[i] + vector2[i] for i in range(dimension))\n",
    "\n",
    "# Mostrar el resultado\n",
    "print(f\"La suma de {vector1} + {vector2} es {resultado}\")\n"
   ]
  },
  {
   "cell_type": "markdown",
   "id": "092db1c5-3fd7-41f7-bad7-4b9e36da95c2",
   "metadata": {},
   "source": [
    "#### Pregunta 3"
   ]
  },
  {
   "cell_type": "markdown",
   "id": "7affb31f-6741-4a9f-b167-ce6fcb979fcd",
   "metadata": {},
   "source": [
    "Realizar una función llamada \"ordenarburbuja\" que reciba una lista desordenada de números (flotantes, enteros) y devuelva la lista ordenada de manera descendente. Utilizar ordenamiento burbuja. Solo se permite una función."
   ]
  },
  {
   "cell_type": "code",
   "execution_count": 4,
   "id": "d5932568-64c2-4ea0-b4cd-6808d2c1470f",
   "metadata": {},
   "outputs": [
    {
     "name": "stdout",
     "output_type": "stream",
     "text": [
      "Lista ordenada: [4, 3.5, 2.2, 1, 0, -5]\n"
     ]
    }
   ],
   "source": [
    "def ordenarburbuja(lista):\n",
    "    n = len(lista)\n",
    "    for i in range(n):\n",
    "        for j in range(0, n - i - 1):\n",
    "            if lista[j] < lista[j + 1]:  # Comparación para orden descendente\n",
    "                lista[j], lista[j + 1] = lista[j + 1], lista[j]\n",
    "    return lista\n",
    "\n",
    "\n",
    "numeros = [3.5, 1, 4, 2.2, 0, -5]\n",
    "resultado = ordenarburbuja(numeros)\n",
    "print(\"Lista ordenada:\", resultado)\n"
   ]
  },
  {
   "cell_type": "markdown",
   "id": "e3cb559b-1692-4dda-9223-dded14508bc1",
   "metadata": {},
   "source": [
    "#### Pregunta 4"
   ]
  },
  {
   "cell_type": "markdown",
   "id": "ec721ab5-da68-4c8b-838f-d92216a796c6",
   "metadata": {},
   "source": [
    "Realizar una función llamada \"ordenarquicksort\" que reciba una lista desordenada de números (flotantes, enteros) y devuelva la lista ordenada de manera ascendente. Utilizar ordenamiento quicksort. Solo se permite una función."
   ]
  },
  {
   "cell_type": "code",
   "execution_count": 5,
   "id": "c2e40ed0-5799-4a65-9d7b-52d82aab74b4",
   "metadata": {},
   "outputs": [
    {
     "name": "stdout",
     "output_type": "stream",
     "text": [
      "Lista ordenada: [-5, 0, 1, 2.2, 3.5, 4]\n"
     ]
    }
   ],
   "source": [
    "def ordenarquicksort(lista):\n",
    "    if len(lista) <= 1:\n",
    "        return lista\n",
    "    else:\n",
    "        pivote = lista[0]\n",
    "        menores = [x for x in lista[1:] if x <= pivote]\n",
    "        mayores = [x for x in lista[1:] if x > pivote]\n",
    "        return ordenarquicksort(menores) + [pivote] + ordenarquicksort(mayores)\n",
    "    \n",
    "    \n",
    "numeros = [3.5, 1, 4, 2.2, 0, -5]\n",
    "resultado = ordenarquicksort(numeros)\n",
    "print(\"Lista ordenada:\", resultado)\n",
    "\n"
   ]
  },
  {
   "cell_type": "markdown",
   "id": "6b0d59c0-e10c-457b-9390-1db2f31ad4bf",
   "metadata": {},
   "source": [
    "#### Pregunta 5"
   ]
  },
  {
   "cell_type": "markdown",
   "id": "d2d3c498-0707-410c-b3fe-42e3ef245e0b",
   "metadata": {},
   "source": [
    "Dadas las siguientes listas:\n",
    "\n",
    "A = [\"Jose\",\"Mariano\",\"Rita\",\"Sara\",\"Juan\"]\n",
    "\n",
    "B = [\"Jose\",\"Maria\",\"Robert\",\"Selena\",\"Juan\"]\n",
    "\n",
    "C = [\"Mario\",\"Freddy\",\"robert\",\"Dave\",\"Cesar\",\"Juan\"]\n",
    "\n",
    "Realizar un programa que permita:\n",
    "- Saber cuantas personas hay en total sin contar los duplicados. A como en el B.Debe imprimir un mensaje indicando la cantidad y los nombre.\n",
    "\n",
    "- Saber que personas estan tanto en el grupo A como en el B.Debe imprimir un mensaje indicando la cantidad y los nombres.\n",
    "\n",
    "- Saber que personas estan tanto en el grupo B como en C. Debe imprimir un mensaje indicando la cantidad y los nombres.\n",
    "\n",
    "- Saber que personas estan en los tres grupos. Debe imprimir un mensaje indicando la cantidad y los nombres.\n",
    "\n",
    "\n",
    "Ocupar conjuntos.\n",
    "\n"
   ]
  },
  {
   "cell_type": "code",
   "execution_count": 6,
   "id": "2e7b487a-5182-4e6a-ac05-48e3040efd6b",
   "metadata": {},
   "outputs": [
    {
     "name": "stdout",
     "output_type": "stream",
     "text": [
      "Total de personas sin duplicados: 13\n",
      "Nombres: ['Cesar', 'Dave', 'Freddy', 'Jose', 'Juan', 'Maria', 'Mariano', 'Mario', 'Rita', 'Robert', 'Sara', 'Selena', 'robert']\n",
      "\n",
      "Personas en A y B: 2\n",
      "Nombres: ['Jose', 'Juan']\n",
      "\n",
      "Personas en B y C: 1\n",
      "Nombres: ['Juan']\n",
      "\n",
      "Personas en los tres grupos: 1\n",
      "Nombres: ['Juan']\n"
     ]
    }
   ],
   "source": [
    "# Listas dadas\n",
    "A = [\"Jose\", \"Mariano\", \"Rita\", \"Sara\", \"Juan\"]\n",
    "B = [\"Jose\", \"Maria\", \"Robert\", \"Selena\", \"Juan\"]\n",
    "C = [\"Mario\", \"Freddy\", \"robert\", \"Dave\", \"Cesar\", \"Juan\"]\n",
    "\n",
    "# Convertir las listas a conjuntos\n",
    "set_A = set(A)\n",
    "set_B = set(B)\n",
    "set_C = set(C)\n",
    "\n",
    "# 1. Total de personas sin duplicados (unión de A, B y C)\n",
    "total_personas = set_A.union(set_B).union(set_C)\n",
    "print(f\"Total de personas sin duplicados: {len(total_personas)}\")\n",
    "print(\"Nombres:\", sorted(total_personas))\n",
    "\n",
    "# 2. Personas en A y B (intersección)\n",
    "interseccion_A_B = set_A.intersection(set_B)\n",
    "print(f\"\\nPersonas en A y B: {len(interseccion_A_B)}\")\n",
    "print(\"Nombres:\", sorted(interseccion_A_B))\n",
    "\n",
    "# 3. Personas en B y C (intersección)\n",
    "interseccion_B_C = set_B.intersection(set_C)\n",
    "print(f\"\\nPersonas en B y C: {len(interseccion_B_C)}\")\n",
    "print(\"Nombres:\", sorted(interseccion_B_C))\n",
    "\n",
    "# 4. Personas en los tres grupos (intersección triple)\n",
    "interseccion_tres = set_A.intersection(set_B).intersection(set_C)\n",
    "print(f\"\\nPersonas en los tres grupos: {len(interseccion_tres)}\")\n",
    "print(\"Nombres:\", sorted(interseccion_tres))\n"
   ]
  },
  {
   "cell_type": "markdown",
   "id": "c9cd9f91-6684-4299-93bc-0713d351774e",
   "metadata": {},
   "source": [
    "#### Pregunta 6"
   ]
  },
  {
   "cell_type": "markdown",
   "id": "22a3c940-ed46-4795-b3cf-663eda5b3a01",
   "metadata": {},
   "source": [
    "Realizar una función en Python que permita convertir un número decimal a un número romano. El limite de números romanos es 3999.\n",
    "\n",
    "22 -> XXII"
   ]
  },
  {
   "cell_type": "code",
   "execution_count": 7,
   "id": "ce20b06a-590e-480e-b542-845bcc615627",
   "metadata": {},
   "outputs": [
    {
     "name": "stdout",
     "output_type": "stream",
     "text": [
      "XXII\n",
      "MMMCMXCIX\n",
      "IV\n"
     ]
    }
   ],
   "source": [
    "def decimal_a_romano(numero):\n",
    "    if not (1 <= numero <= 3999):\n",
    "        return \"Número fuera de rango (1-3999)\"\n",
    "    \n",
    "    valores = [\n",
    "        (1000, 'M'), (900, 'CM'), (500, 'D'), (400, 'CD'),\n",
    "        (100, 'C'),  (90, 'XC'), (50, 'L'),  (40, 'XL'),\n",
    "        (10, 'X'),   (9, 'IX'),  (5, 'V'),   (4, 'IV'), (1, 'I')\n",
    "    ]\n",
    "    \n",
    "    romano = \"\"\n",
    "    for valor, simbolo in valores:\n",
    "        while numero >= valor:\n",
    "            romano += simbolo\n",
    "            numero -= valor\n",
    "    return romano\n",
    "\n",
    "\n",
    "print(decimal_a_romano(22))   # Salida: XXII\n",
    "print(decimal_a_romano(3999)) # Salida: MMMCMXCIX\n",
    "print(decimal_a_romano(4))    # Salida: IV\n"
   ]
  },
  {
   "cell_type": "markdown",
   "id": "caede231-1f7b-4aa9-9684-48e93c830486",
   "metadata": {},
   "source": [
    "#### Pregunta 7"
   ]
  },
  {
   "cell_type": "markdown",
   "id": "425d6729-50bc-45e6-8549-6869bea15d55",
   "metadata": {},
   "source": [
    "Escribir las funciones necesarias para cargar una matriz cuadrada de la siguiente forma.\n",
    "\n",
    "\n",
    "| 5 | 4 | 3 | 2 | 1 |\n",
    "|---|---|---|---|---|\n",
    "| 4 | 4 | 3 | 2 | 1 |\n",
    "| 3 | 3 | 3 | 2 | 1 |\n",
    "| 2 | 2 | 2 | 2 | 1 |\n",
    "| 1 | 1 | 1 | 1 | 1 |\n"
   ]
  },
  {
   "cell_type": "code",
   "execution_count": 8,
   "id": "067b1993-a39b-42f7-90ce-c40ce7c171f0",
   "metadata": {},
   "outputs": [
    {
     "name": "stdout",
     "output_type": "stream",
     "text": [
      "5 | 4 | 3 | 2 | 1\n",
      "4 | 3 | 2 | 1 | 1\n",
      "3 | 2 | 1 | 1 | 1\n",
      "2 | 1 | 1 | 1 | 1\n",
      "1 | 1 | 1 | 1 | 1\n"
     ]
    }
   ],
   "source": [
    "def generar_matriz(n):\n",
    "    matriz = []\n",
    "    for i in range(n):\n",
    "        fila = []\n",
    "        for j in range(n):\n",
    "            valor = max(n - i - j, 1)\n",
    "            fila.append(valor)\n",
    "        matriz.append(fila)\n",
    "    return matriz\n",
    "\n",
    "\n",
    "def imprimir_matriz(matriz):\n",
    "    for fila in matriz:\n",
    "        print(\" | \".join(str(elem) for elem in fila))\n",
    "\n",
    "n = 5\n",
    "matriz = generar_matriz(n)\n",
    "imprimir_matriz(matriz)\n"
   ]
  },
  {
   "cell_type": "markdown",
   "id": "5232665e-16e1-45fc-b818-ff63737c25fe",
   "metadata": {},
   "source": [
    "#### Pregunta 8"
   ]
  },
  {
   "cell_type": "markdown",
   "id": "6edc3ea8-6c76-4673-8962-ff790f90270d",
   "metadata": {},
   "source": [
    "Escribir las funciones necesarias para cargar una matriz cuadrada de la siguiente forma.\n",
    "\n",
    "| 15 | 0  | 0  | 0 | 0 |\n",
    "|----|----|----|---|---|\n",
    "| 14 | 13 | 0  | 0 | 0 |\n",
    "| 12 | 11 | 10 | 0 | 0 |\n",
    "| 9  | 8  | 7  | 6 | 0 |\n",
    "| 5  | 4  | 3  | 2 | 1 |"
   ]
  },
  {
   "cell_type": "code",
   "execution_count": 9,
   "id": "88544de4",
   "metadata": {},
   "outputs": [
    {
     "name": "stdout",
     "output_type": "stream",
     "text": [
      " 1 |  0 |  0 |  0 |  0\n",
      " 3 |  2 |  0 |  0 |  0\n",
      " 6 |  5 |  4 |  0 |  0\n",
      "10 |  9 |  8 |  7 |  0\n",
      "15 | 14 | 13 | 12 | 11\n"
     ]
    }
   ],
   "source": [
    "def generar_matriz_triangulo_inferior(n):\n",
    "    matriz = [[0 for _ in range(n)] for _ in range(n)]\n",
    "    numero = n * (n + 1) // 2  # Valor inicial\n",
    "\n",
    "    for fila in range(n - 1, -1, -1):  # desde la última fila hasta la primera\n",
    "        for col in range(fila + 1):    # solo hasta la diagonal incluida\n",
    "            matriz[fila][col] = numero\n",
    "            numero -= 1\n",
    "    return matriz\n",
    "\n",
    "def imprimir_matriz(matriz):\n",
    "    for fila in matriz:\n",
    "        print(\" | \".join(f\"{elem:2}\" for elem in fila))\n",
    "\n",
    "\n",
    "n = 5\n",
    "matriz = generar_matriz_triangulo_inferior(n)\n",
    "imprimir_matriz(matriz)\n"
   ]
  },
  {
   "cell_type": "markdown",
   "id": "e218822e-a34c-46b4-8a26-ab99a8598866",
   "metadata": {},
   "source": [
    "#### Pregunta 9"
   ]
  },
  {
   "cell_type": "markdown",
   "id": "e8996d34-6b5c-471d-b3d8-7767a9130ccd",
   "metadata": {},
   "source": [
    "Realizar una función que permita multiplicar 2 matrices, esta debe recibir como parámetros las 2 matrices. Para multiplicar dos matrices necesitamos que el número de columnas de la primera matriz sea igual al número de filas de la segunda matriz, sino cumple con esto debera devolver un mensaje indicando que no se puede realizar la operación.\n",
    "\n",
    "Ejemplo: Supongamos A una matriz de 2x3 y B una matriz de 3x4,dara como resultado una matriz de 2x4, puedes investigar como se realiza la multiplicación de matrices. "
   ]
  },
  {
   "cell_type": "code",
   "execution_count": 10,
   "id": "2fe4c46b",
   "metadata": {},
   "outputs": [
    {
     "name": "stdout",
     "output_type": "stream",
     "text": [
      "  74 |   80 |   86 |   92\n",
      " 173 |  188 |  203 |  218\n"
     ]
    }
   ],
   "source": [
    "def multiplicar_matrices(A, B):\n",
    "    # Verificar si la multiplicación es posible\n",
    "    if len(A[0]) != len(B):\n",
    "        return \"No se puede realizar la operación: columnas de A ≠ filas de B\"\n",
    "\n",
    "    # Crear la matriz resultado con ceros (filas de A x columnas de B)\n",
    "    resultado = [[0 for _ in range(len(B[0]))] for _ in range(len(A))]\n",
    "\n",
    "    # Realizar la multiplicación\n",
    "    for i in range(len(A)):          # Filas de A\n",
    "        for j in range(len(B[0])):   # Columnas de B\n",
    "            for k in range(len(B)):  # Columnas de A = Filas de B\n",
    "                resultado[i][j] += A[i][k] * B[k][j]\n",
    "\n",
    "    return resultado\n",
    "\n",
    "\n",
    "def imprimir_matriz(matriz):\n",
    "    if isinstance(matriz, str):\n",
    "        print(matriz)  # Mensaje de error\n",
    "    else:\n",
    "        for fila in matriz:\n",
    "            print(\" | \".join(f\"{elem:4}\" for elem in fila))\n",
    "\n",
    "\n",
    "# A es de 2x3\n",
    "A = [\n",
    "    [1, 2, 3],\n",
    "    [4, 5, 6]\n",
    "]\n",
    "\n",
    "# B es de 3x4\n",
    "B = [\n",
    "    [7, 8, 9, 10],\n",
    "    [11, 12, 13, 14],\n",
    "    [15, 16, 17, 18]\n",
    "]\n",
    "\n",
    "resultado = multiplicar_matrices(A, B)\n",
    "imprimir_matriz(resultado)\n"
   ]
  },
  {
   "cell_type": "markdown",
   "id": "a988f9b3-2799-4558-9a71-b17082b868be",
   "metadata": {},
   "source": [
    "#### Pregunta 10"
   ]
  },
  {
   "cell_type": "markdown",
   "id": "46c27448-879e-4520-be4d-8a1218ca9ce8",
   "metadata": {},
   "source": [
    "Escribe un programa python que pida un número por teclado y que cree un diccionario cuyas claves sean desde el número 1 hasta el número indicado, y los valores sean los cuadrados de las claves."
   ]
  },
  {
   "cell_type": "code",
   "execution_count": null,
   "id": "b678d857-1636-4334-b2e6-0eadf57df4dc",
   "metadata": {},
   "outputs": [
    {
     "name": "stdout",
     "output_type": "stream",
     "text": [
      "Diccionario resultante:\n",
      "{1: 1, 2: 4, 3: 9, 4: 16, 5: 25}\n"
     ]
    }
   ],
   "source": [
    "numero = int(input(\"Ingresa un número: \"))\n",
    "\n",
    "diccionario = {}\n",
    "\n",
    "for i in range(1, numero + 1):\n",
    "    diccionario[i] = i ** 2\n",
    "\n",
    "print(\"Diccionario resultante:\")\n",
    "print(diccionario)\n",
    "\n",
    "\n"
   ]
  },
  {
   "cell_type": "markdown",
   "id": "b0dfd81b-4a43-4773-a2d3-0f44ec44d221",
   "metadata": {},
   "source": [
    "#### Pregunta 11"
   ]
  },
  {
   "cell_type": "markdown",
   "id": "2acdbb4c-4773-47ed-a66a-91a5b4dcce36",
   "metadata": {},
   "source": [
    "Escribe un programa python que trabaje sobre un diccionario llamado capitales, debe solicitar cuantas capitales quiere guardar en el diccionario y solicitar los datos de el pais y su capital, donde pais será la clave y capital el valor. Al final debe imprimir todas todas las capitales de la siguiente manera:\n",
    "\n",
    "\"La capital de {} es {}.\""
   ]
  },
  {
   "cell_type": "code",
   "execution_count": 12,
   "id": "5e68ac55-b1a3-4ad2-b1ca-c09b2d355f4c",
   "metadata": {},
   "outputs": [
    {
     "name": "stdout",
     "output_type": "stream",
     "text": [
      "\n",
      "Listado de capitales:\n",
      "La capital de España es Madrid.\n",
      "La capital de El Salvador es San Salvador.\n",
      "La capital de USA es Washintong.\n"
     ]
    }
   ],
   "source": [
    "capitales = {}\n",
    "\n",
    "n = int(input(\"¿Cuántas capitales quieres guardar? \"))\n",
    "\n",
    "for _ in range(n):\n",
    "    pais = input(\"Ingresa el nombre del país: \")\n",
    "    capital = input(\"Ingresa la capital de {}: \".format(pais))\n",
    "    capitales[pais] = capital\n",
    "\n",
    "print(\"\\nListado de capitales:\")\n",
    "for pais, capital in capitales.items():\n",
    "    print(f\"La capital de {pais} es {capital}.\")\n"
   ]
  },
  {
   "cell_type": "markdown",
   "id": "7169a1e2-fd2e-40f2-9256-fccb533bbd54",
   "metadata": {},
   "source": [
    "#### Pregunta 12"
   ]
  },
  {
   "cell_type": "markdown",
   "id": "23b6e4a8-ee27-469e-b3d0-a0812556b8a6",
   "metadata": {},
   "source": [
    "Escribir un programa que implemente una agenda. En la agenda se podrán guardar nombres y números de teléfono. El programa nos dará el siguiente menú:\n",
    "\n",
    "- Añadir/modificar: Nos pide un nombre. Si el nombre se encuentra en la agenda, debe mostrar el teléfono y, opcionalmente, permitir modificarlo si no es correcto. Si el nombre no se encuentra, debe permitir ingresar el teléfono correspondiente.\n",
    "- Buscar: Nos pide una cadena de caracteres, y nos muestras todos los contactos cuyos nombres comiencen por dicha cadena.\n",
    "- Borrar: Nos pide un nombre y si existe nos preguntará si queremos borrarlo de la agenda.\n",
    "- Listar: Nos muestra todos los contactos de la agenda.\n",
    "\n",
    "Implementar el programa con un diccionario."
   ]
  },
  {
   "cell_type": "code",
   "execution_count": 13,
   "id": "653004f0-2239-4bd6-b8b3-976bfbf8a529",
   "metadata": {},
   "outputs": [
    {
     "name": "stdout",
     "output_type": "stream",
     "text": [
      "\n",
      "--- Agenda ---\n",
      "1. Añadir/modificar\n",
      "2. Buscar\n",
      "3. Borrar\n",
      "4. Listar\n",
      "5. Salir\n",
      "Contacto Jorge agregado.\n",
      "\n",
      "--- Agenda ---\n",
      "1. Añadir/modificar\n",
      "2. Buscar\n",
      "3. Borrar\n",
      "4. Listar\n",
      "5. Salir\n",
      "Contactos en la agenda:\n",
      "Jorge: 222111333\n",
      "\n",
      "--- Agenda ---\n",
      "1. Añadir/modificar\n",
      "2. Buscar\n",
      "3. Borrar\n",
      "4. Listar\n",
      "5. Salir\n",
      "Contactos en la agenda:\n",
      "Jorge: 222111333\n",
      "\n",
      "--- Agenda ---\n",
      "1. Añadir/modificar\n",
      "2. Buscar\n",
      "3. Borrar\n",
      "4. Listar\n",
      "5. Salir\n",
      "Contacto ana agregado.\n",
      "\n",
      "--- Agenda ---\n",
      "1. Añadir/modificar\n",
      "2. Buscar\n",
      "3. Borrar\n",
      "4. Listar\n",
      "5. Salir\n",
      "Contactos en la agenda:\n",
      "Jorge: 222111333\n",
      "ana: 784512985\n",
      "\n",
      "--- Agenda ---\n",
      "1. Añadir/modificar\n",
      "2. Buscar\n",
      "3. Borrar\n",
      "4. Listar\n",
      "5. Salir\n",
      "Contactos en la agenda:\n",
      "Jorge: 222111333\n",
      "ana: 784512985\n",
      "\n",
      "--- Agenda ---\n",
      "1. Añadir/modificar\n",
      "2. Buscar\n",
      "3. Borrar\n",
      "4. Listar\n",
      "5. Salir\n",
      "Contacto Jorge borrado.\n",
      "\n",
      "--- Agenda ---\n",
      "1. Añadir/modificar\n",
      "2. Buscar\n",
      "3. Borrar\n",
      "4. Listar\n",
      "5. Salir\n",
      "Contactos en la agenda:\n",
      "ana: 784512985\n",
      "\n",
      "--- Agenda ---\n",
      "1. Añadir/modificar\n",
      "2. Buscar\n",
      "3. Borrar\n",
      "4. Listar\n",
      "5. Salir\n",
      "¡Hasta luego!\n"
     ]
    }
   ],
   "source": [
    "def mostrar_menu():\n",
    "    print(\"\\n--- Agenda ---\")\n",
    "    print(\"1. Añadir/modificar\")\n",
    "    print(\"2. Buscar\")\n",
    "    print(\"3. Borrar\")\n",
    "    print(\"4. Listar\")\n",
    "    print(\"5. Salir\")\n",
    "\n",
    "def añadir_modificar(agenda):\n",
    "    nombre = input(\"Ingrese un nombre: \").strip()\n",
    "    if nombre in agenda:\n",
    "        print(f\"El teléfono actual de {nombre} es {agenda[nombre]}\")\n",
    "        opcion = input(\"¿Desea modificarlo? (s/n): \").lower()\n",
    "        if opcion == 's':\n",
    "            nuevo_telefono = input(\"Ingrese el nuevo teléfono: \").strip()\n",
    "            agenda[nombre] = nuevo_telefono\n",
    "            print(f\"Teléfono de {nombre} actualizado.\")\n",
    "    else:\n",
    "        telefono = input(f\"Ingrese el teléfono para {nombre}: \").strip()\n",
    "        agenda[nombre] = telefono\n",
    "        print(f\"Contacto {nombre} agregado.\")\n",
    "\n",
    "def buscar(agenda):\n",
    "    cadena = input(\"Ingrese la cadena para buscar contactos que comiencen con ella: \").strip()\n",
    "    encontrados = {n: t for n, t in agenda.items() if n.lower().startswith(cadena.lower())}\n",
    "    if encontrados:\n",
    "        print(f\"Contactos encontrados que comienzan con '{cadena}':\")\n",
    "        for n, t in encontrados.items():\n",
    "            print(f\"{n}: {t}\")\n",
    "    else:\n",
    "        print(\"No se encontraron contactos con esa cadena.\")\n",
    "\n",
    "def borrar(agenda):\n",
    "    nombre = input(\"Ingrese el nombre que desea borrar: \").strip()\n",
    "    if nombre in agenda:\n",
    "        opcion = input(f\"¿Está seguro que desea borrar {nombre}? (s/n): \").lower()\n",
    "        if opcion == 's':\n",
    "            del agenda[nombre]\n",
    "            print(f\"Contacto {nombre} borrado.\")\n",
    "        else:\n",
    "            print(\"Operación cancelada.\")\n",
    "    else:\n",
    "        print(\"El contacto no existe.\")\n",
    "\n",
    "def listar(agenda):\n",
    "    if agenda:\n",
    "        print(\"Contactos en la agenda:\")\n",
    "        for nombre, telefono in sorted(agenda.items()):\n",
    "            print(f\"{nombre}: {telefono}\")\n",
    "    else:\n",
    "        print(\"La agenda está vacía.\")\n",
    "\n",
    "def main():\n",
    "    agenda = {}\n",
    "    while True:\n",
    "        mostrar_menu()\n",
    "        opcion = input(\"Seleccione una opción (1-5): \").strip()\n",
    "        if opcion == '1':\n",
    "            añadir_modificar(agenda)\n",
    "        elif opcion == '2':\n",
    "            buscar(agenda)\n",
    "        elif opcion == '3':\n",
    "            borrar(agenda)\n",
    "        elif opcion == '4':\n",
    "            listar(agenda)\n",
    "        elif opcion == '5':\n",
    "            print(\"¡Hasta luego!\")\n",
    "            break\n",
    "        else:\n",
    "            print(\"Opción inválida, intente de nuevo.\")\n",
    "\n",
    "if __name__ == \"__main__\":\n",
    "    main()\n",
    "\n"
   ]
  },
  {
   "cell_type": "markdown",
   "id": "fc388caa-ff04-4ff4-ab6f-7b57c1b91367",
   "metadata": {},
   "source": [
    "#### Pregunta 13"
   ]
  },
  {
   "cell_type": "markdown",
   "id": "eb300f02-fcb7-4561-94e5-44c2a22c8da8",
   "metadata": {},
   "source": [
    "Mejorar el código anterior para que pueda trabajar sobre un documento llamado \"contactos.txt\", lo primero que deberás hacer es agregar la opcion \"salir\" para terminar la ejecución.\n",
    "\n",
    "El código funcionara de la siguiente manera:\n",
    "\n",
    "- Cuando se ejecute el código se deben deben cargar los contactos del archivo \"contactos.txt\" en un diccionario para su manipulación durante la ejecución (la primera vez el documento estará en blanco)\n",
    "\n",
    "- Ante cualquier cambio efectuado mediante la accion de las opciones programadas en el ejercicio anterior, estos se deben ver reflejados en el archivo \"contacto.txt\" de tal manera que los contactos queden guardados en el archivo.\n",
    "\n",
    "- Para actualizar los contactos en el archivo puede elegir el modo de apertura que vea conveniente.\n",
    "\n",
    "- Los contactos deben ser guardados en \"contactos.txt\" bajo el siguiente formato \"contacto;telefono\"."
   ]
  },
  {
   "cell_type": "code",
   "execution_count": 14,
   "id": "78ca73f4-3785-44f9-83ce-925638cc2409",
   "metadata": {},
   "outputs": [
    {
     "name": "stdout",
     "output_type": "stream",
     "text": [
      "\n",
      "--- Agenda ---\n",
      "1. Añadir/modificar\n",
      "2. Buscar\n",
      "3. Borrar\n",
      "4. Listar\n",
      "5. Salir\n",
      "Contacto Ana agregado.\n",
      "\n",
      "--- Agenda ---\n",
      "1. Añadir/modificar\n",
      "2. Buscar\n",
      "3. Borrar\n",
      "4. Listar\n",
      "5. Salir\n",
      "Contacto Jose agregado.\n",
      "\n",
      "--- Agenda ---\n",
      "1. Añadir/modificar\n",
      "2. Buscar\n",
      "3. Borrar\n",
      "4. Listar\n",
      "5. Salir\n",
      "Contacto Marta agregado.\n",
      "\n",
      "--- Agenda ---\n",
      "1. Añadir/modificar\n",
      "2. Buscar\n",
      "3. Borrar\n",
      "4. Listar\n",
      "5. Salir\n",
      "Contactos encontrados que comienzan con 'Ana':\n",
      "Ana: 111111111\n",
      "\n",
      "--- Agenda ---\n",
      "1. Añadir/modificar\n",
      "2. Buscar\n",
      "3. Borrar\n",
      "4. Listar\n",
      "5. Salir\n",
      "Contactos encontrados que comienzan con 'Ana':\n",
      "Ana: 111111111\n",
      "\n",
      "--- Agenda ---\n",
      "1. Añadir/modificar\n",
      "2. Buscar\n",
      "3. Borrar\n",
      "4. Listar\n",
      "5. Salir\n",
      "Contacto Marta borrado.\n",
      "\n",
      "--- Agenda ---\n",
      "1. Añadir/modificar\n",
      "2. Buscar\n",
      "3. Borrar\n",
      "4. Listar\n",
      "5. Salir\n",
      "Contactos en la agenda:\n",
      "Ana: 111111111\n",
      "Jose: 454545321\n",
      "\n",
      "--- Agenda ---\n",
      "1. Añadir/modificar\n",
      "2. Buscar\n",
      "3. Borrar\n",
      "4. Listar\n",
      "5. Salir\n",
      "Contactos en la agenda:\n",
      "Ana: 111111111\n",
      "Jose: 454545321\n",
      "\n",
      "--- Agenda ---\n",
      "1. Añadir/modificar\n",
      "2. Buscar\n",
      "3. Borrar\n",
      "4. Listar\n",
      "5. Salir\n",
      "¡Hasta luego!\n"
     ]
    }
   ],
   "source": [
    "import os\n",
    "\n",
    "NOMBRE_ARCHIVO = \"contactos.txt\"\n",
    "\n",
    "def cargar_contactos():\n",
    "    agenda = {}\n",
    "    if os.path.exists(NOMBRE_ARCHIVO):\n",
    "        with open(NOMBRE_ARCHIVO, \"r\", encoding=\"utf-8\") as f:\n",
    "            for linea in f:\n",
    "                linea = linea.strip()\n",
    "                if linea:\n",
    "                    try:\n",
    "                        contacto, telefono = linea.split(\";\", 1)\n",
    "                        agenda[contacto] = telefono\n",
    "                    except ValueError:\n",
    "                        # Línea mal formada, la ignoramos\n",
    "                        pass\n",
    "    return agenda\n",
    "\n",
    "def guardar_contactos(agenda):\n",
    "    with open(NOMBRE_ARCHIVO, \"w\", encoding=\"utf-8\") as f:\n",
    "        for contacto, telefono in agenda.items():\n",
    "            f.write(f\"{contacto};{telefono}\\n\")\n",
    "\n",
    "def mostrar_menu():\n",
    "    print(\"\\n--- Agenda ---\")\n",
    "    print(\"1. Añadir/modificar\")\n",
    "    print(\"2. Buscar\")\n",
    "    print(\"3. Borrar\")\n",
    "    print(\"4. Listar\")\n",
    "    print(\"5. Salir\")\n",
    "\n",
    "def añadir_modificar(agenda):\n",
    "    nombre = input(\"Ingrese un nombre: \").strip()\n",
    "    if nombre in agenda:\n",
    "        print(f\"El teléfono actual de {nombre} es {agenda[nombre]}\")\n",
    "        opcion = input(\"¿Desea modificarlo? (s/n): \").lower()\n",
    "        if opcion == 's':\n",
    "            nuevo_telefono = input(\"Ingrese el nuevo teléfono: \").strip()\n",
    "            agenda[nombre] = nuevo_telefono\n",
    "            print(f\"Teléfono de {nombre} actualizado.\")\n",
    "            guardar_contactos(agenda)\n",
    "    else:\n",
    "        telefono = input(f\"Ingrese el teléfono para {nombre}: \").strip()\n",
    "        agenda[nombre] = telefono\n",
    "        print(f\"Contacto {nombre} agregado.\")\n",
    "        guardar_contactos(agenda)\n",
    "\n",
    "def buscar(agenda):\n",
    "    cadena = input(\"Ingrese la cadena para buscar contactos que comiencen con ella: \").strip()\n",
    "    encontrados = {n: t for n, t in agenda.items() if n.lower().startswith(cadena.lower())}\n",
    "    if encontrados:\n",
    "        print(f\"Contactos encontrados que comienzan con '{cadena}':\")\n",
    "        for n, t in encontrados.items():\n",
    "            print(f\"{n}: {t}\")\n",
    "    else:\n",
    "        print(\"No se encontraron contactos con esa cadena.\")\n",
    "\n",
    "def borrar(agenda):\n",
    "    nombre = input(\"Ingrese el nombre que desea borrar: \").strip()\n",
    "    if nombre in agenda:\n",
    "        opcion = input(f\"¿Está seguro que desea borrar {nombre}? (s/n): \").lower()\n",
    "        if opcion == 's':\n",
    "            del agenda[nombre]\n",
    "            print(f\"Contacto {nombre} borrado.\")\n",
    "            guardar_contactos(agenda)\n",
    "        else:\n",
    "            print(\"Operación cancelada.\")\n",
    "    else:\n",
    "        print(\"El contacto no existe.\")\n",
    "\n",
    "def listar(agenda):\n",
    "    if agenda:\n",
    "        print(\"Contactos en la agenda:\")\n",
    "        for nombre, telefono in sorted(agenda.items()):\n",
    "            print(f\"{nombre}: {telefono}\")\n",
    "    else:\n",
    "        print(\"La agenda está vacía.\")\n",
    "\n",
    "def main():\n",
    "    agenda = cargar_contactos()\n",
    "    while True:\n",
    "        mostrar_menu()\n",
    "        opcion = input(\"Seleccione una opción (1-5): \").strip()\n",
    "        if opcion == '1':\n",
    "            añadir_modificar(agenda)\n",
    "        elif opcion == '2':\n",
    "            buscar(agenda)\n",
    "        elif opcion == '3':\n",
    "            borrar(agenda)\n",
    "        elif opcion == '4':\n",
    "            listar(agenda)\n",
    "        elif opcion == '5':\n",
    "            print(\"¡Hasta luego!\")\n",
    "            break\n",
    "        else:\n",
    "            print(\"Opción inválida, intente de nuevo.\")\n",
    "\n",
    "if __name__ == \"__main__\":\n",
    "    main()\n"
   ]
  }
 ],
 "metadata": {
  "kernelspec": {
   "display_name": "Python 3",
   "language": "python",
   "name": "python3"
  },
  "language_info": {
   "codemirror_mode": {
    "name": "ipython",
    "version": 3
   },
   "file_extension": ".py",
   "mimetype": "text/x-python",
   "name": "python",
   "nbconvert_exporter": "python",
   "pygments_lexer": "ipython3",
   "version": "3.12.4"
  }
 },
 "nbformat": 4,
 "nbformat_minor": 5
}
